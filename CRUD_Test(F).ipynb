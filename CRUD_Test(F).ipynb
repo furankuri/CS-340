{
 "cells": [
  {
   "cell_type": "code",
   "execution_count": null,
   "metadata": {
    "scrolled": true
   },
   "outputs": [],
   "source": [
    "from pymongo import MongoClient\n",
    "from bson.objectid import ObjectId\n",
    "from CRUD import AnimalShelter\n",
    "import random\n",
    "import string\n",
    "import json\n",
    "\n",
    "shelter = AnimalShelter(\"FranklinDelacruz\", \"Franky\")\n",
    "\n",
    "animal_id = 'A'.join(random.choices(string.ascii_uppercase + string.digits, k=6))\n",
    "\n",
    "print('animal_id %s being created' % animal_id)\n",
    "\n",
    "outcome = {\n",
    "    \"\": 78258, \n",
    "    \"age_upon_outcome\": \n",
    "    \"1.6 years\", \n",
    "    \"animal_id\": \"\" + animal_id + \"\", \n",
    "    \"animal_type\": \"Dog\",  \n",
    "    \"breed\": \"Wolf Sheperd Mix\", \n",
    "    \"color\": \"Grey\", \n",
    "    \"date_of_birth\": \"2013-02-09\", \n",
    "    \"datetime\": \"2014-04-11 13:26:00\", \n",
    "    \"month_year\": \"2014-04-11T13:26:00\", \n",
    "    \"name\": \"*JakeMo\", \n",
    "    \"outcome_subtype\": \"Partner\", \n",
    "    \"outcome_type\": \"Transfer\", \n",
    "    \"sex_upon_outcome\": \"Intact Male\", \n",
    "    \"Location_lat\": \"30.707721081886\", \n",
    "    \"location:long\": \"-97.2735696278757\", \n",
    "    \"age_upon_outcome_in_weeks\": 110.0799603174603\n",
    "}\n",
    "\n",
    "#print(outcome)\n",
    "\n",
    "if shelter.create(outcome):\n",
    "    print(\"animal added\")\n",
    "\n",
    "animal = shelter.read({\"animal_id\":animal_id})\n",
    "print(list(animal))\n",
    "\n",
    "#update outcome\n",
    "query = {\"animal_id\":animal_id}\n",
    "newData = {\"color\":\"red\"}\n",
    "animalUpdate = shelter.update(query, newData)\n",
    "print(animalUpdate.modified_count)\n",
    "\n",
    "animal = shelter.read({\"animal_id\": animal_id})\n",
    "print(list(animal))\n",
    "\n",
    "#delete outcome\n",
    "AnimalNoMore = shelter.delete(query)\n",
    "print(\"Documents deleted:\", AnimalNoMore.deleted_count)\n"
   ]
  },
  {
   "cell_type": "code",
   "execution_count": null,
   "metadata": {},
   "outputs": [],
   "source": []
  },
  {
   "cell_type": "code",
   "execution_count": null,
   "metadata": {},
   "outputs": [],
   "source": []
  },
  {
   "cell_type": "code",
   "execution_count": null,
   "metadata": {},
   "outputs": [],
   "source": []
  }
 ],
 "metadata": {
  "kernelspec": {
   "display_name": "Python 3",
   "language": "python",
   "name": "python3"
  },
  "language_info": {
   "codemirror_mode": {
    "name": "ipython",
    "version": 3
   },
   "file_extension": ".py",
   "mimetype": "text/x-python",
   "name": "python",
   "nbconvert_exporter": "python",
   "pygments_lexer": "ipython3",
   "version": "3.6.9"
  }
 },
 "nbformat": 4,
 "nbformat_minor": 2
}
